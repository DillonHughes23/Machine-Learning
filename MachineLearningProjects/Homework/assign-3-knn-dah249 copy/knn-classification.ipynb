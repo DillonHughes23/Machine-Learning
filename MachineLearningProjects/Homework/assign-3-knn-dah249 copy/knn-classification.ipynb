{
 "cells": [
  {
   "cell_type": "markdown",
   "metadata": {},
   "source": [
    "# Assignment 3\n",
    "\n",
    "# Task 1 - Train and Evaluate a KNN Classifier on the Connect-4 Dataset"
   ]
  },
  {
   "cell_type": "markdown",
   "metadata": {},
   "source": [
    "## 1.1 - Import the necessary libraries"
   ]
  },
  {
   "cell_type": "code",
   "execution_count": 57,
   "metadata": {
    "tags": []
   },
   "outputs": [],
   "source": [
    "# Importing the libraries\n",
    "\n",
    "# YOUR CODE HERE\n",
    "\n",
    "import pandas as pd\n",
    "import numpy as np\n",
    "import sklearn as sk\n",
    "import matplotlib.pyplot as plt\n",
    "from sklearn.model_selection import train_test_split\n",
    "from sklearn.neighbors import KNeighborsClassifier\n",
    "from sklearn.metrics import accuracy_score\n"
   ]
  },
  {
   "cell_type": "markdown",
   "metadata": {},
   "source": [
    "## 1.2 - Load and pre-process the dataset"
   ]
  },
  {
   "cell_type": "code",
   "execution_count": 4,
   "metadata": {
    "tags": []
   },
   "outputs": [],
   "source": [
    "data_path = './Data/connect-4.data.txt'\n",
    "\n",
    "column_names = ['a1', 'a2', 'a3', 'a4', 'a5', 'a6', \n",
    "                'b1', 'b2', 'b3', 'b4', 'b5', 'b6',\n",
    "                'c1', 'c2', 'c3', 'c4', 'c5', 'c6',\n",
    "                'd1', 'd2', 'd3', 'd4', 'd5', 'd6',\n",
    "                'e1', 'e2', 'e3', 'e4', 'e5', 'e6',\n",
    "                'f1', 'f2', 'f3', 'f4', 'f5', 'f6',\n",
    "                'g1', 'g2', 'g3', 'g4', 'g5', 'g6',\n",
    "                'class']\n",
    "\n",
    "# Load the data into a pandas dataframe using the column names defined above\n",
    "# YOUR CODE HERE\n",
    "df = pd.read_csv(data_path, names=column_names)\n"
   ]
  },
  {
   "cell_type": "code",
   "execution_count": 5,
   "metadata": {
    "tags": []
   },
   "outputs": [
    {
     "name": "stdout",
     "output_type": "stream",
     "text": [
      "(67557, 43)\n",
      "  a1 a2 a3 a4 a5 a6 b1 b2 b3 b4  ... f4 f5 f6 g1 g2 g3 g4 g5 g6 class\n",
      "0  b  b  b  b  b  b  b  b  b  b  ...  b  b  b  b  b  b  b  b  b   win\n",
      "1  b  b  b  b  b  b  b  b  b  b  ...  b  b  b  b  b  b  b  b  b   win\n",
      "2  b  b  b  b  b  b  o  b  b  b  ...  b  b  b  b  b  b  b  b  b   win\n",
      "3  b  b  b  b  b  b  b  b  b  b  ...  b  b  b  b  b  b  b  b  b   win\n",
      "4  o  b  b  b  b  b  b  b  b  b  ...  b  b  b  b  b  b  b  b  b   win\n",
      "\n",
      "[5 rows x 43 columns]\n"
     ]
    }
   ],
   "source": [
    "# Print the shape of the dataframe\n",
    "# YOUR CODE HERE\n",
    "print(df.shape)\n",
    "\n",
    "# Show the first 5 rows of the dataframe\n",
    "# YOUR CODE HERE\n",
    "print(df.head(5))"
   ]
  },
  {
   "cell_type": "code",
   "execution_count": 7,
   "metadata": {
    "tags": []
   },
   "outputs": [
    {
     "name": "stdout",
     "output_type": "stream",
     "text": [
      "0\n"
     ]
    }
   ],
   "source": [
    "# Check for null entries\n",
    "# YOUR CODE HERE\n",
    "errors = df.isnull().values.sum()\n",
    "print(errors)\n"
   ]
  },
  {
   "cell_type": "code",
   "execution_count": 8,
   "metadata": {
    "tags": []
   },
   "outputs": [
    {
     "name": "stdout",
     "output_type": "stream",
     "text": [
      "          a1     a2     a3     a4     a5     a6     b1     b2     b3     b4  \\\n",
      "0      False  False  False  False  False  False  False  False  False  False   \n",
      "1      False  False  False  False  False  False  False  False  False  False   \n",
      "2      False  False  False  False  False  False  False  False  False  False   \n",
      "3      False  False  False  False  False  False  False  False  False  False   \n",
      "4      False  False  False  False  False  False  False  False  False  False   \n",
      "...      ...    ...    ...    ...    ...    ...    ...    ...    ...    ...   \n",
      "67552  False  False  False  False  False  False  False  False  False  False   \n",
      "67553  False  False  False  False  False  False  False  False  False  False   \n",
      "67554  False  False  False  False  False  False  False  False  False  False   \n",
      "67555  False  False  False  False  False  False  False  False  False  False   \n",
      "67556  False  False  False  False  False  False  False  False  False  False   \n",
      "\n",
      "       ...     f4     f5     f6     g1     g2     g3     g4     g5     g6  \\\n",
      "0      ...  False  False  False  False  False  False  False  False  False   \n",
      "1      ...  False  False  False  False  False  False  False  False  False   \n",
      "2      ...  False  False  False  False  False  False  False  False  False   \n",
      "3      ...  False  False  False  False  False  False  False  False  False   \n",
      "4      ...  False  False  False  False  False  False  False  False  False   \n",
      "...    ...    ...    ...    ...    ...    ...    ...    ...    ...    ...   \n",
      "67552  ...  False  False  False  False  False  False  False  False  False   \n",
      "67553  ...  False  False  False  False  False  False  False  False  False   \n",
      "67554  ...  False  False  False  False  False  False  False  False  False   \n",
      "67555  ...  False  False  False  False  False  False  False  False  False   \n",
      "67556  ...  False  False  False  False  False  False  False  False  False   \n",
      "\n",
      "       class  \n",
      "0      False  \n",
      "1      False  \n",
      "2      False  \n",
      "3      False  \n",
      "4      False  \n",
      "...      ...  \n",
      "67552  False  \n",
      "67553  False  \n",
      "67554  False  \n",
      "67555  False  \n",
      "67556  False  \n",
      "\n",
      "[67557 rows x 43 columns]\n"
     ]
    },
    {
     "data": {
      "text/plain": [
       "False"
      ]
     },
     "execution_count": 8,
     "metadata": {},
     "output_type": "execute_result"
    }
   ],
   "source": [
    "# Check for missing values\n",
    "# I included the first line of code to see all of the missing values in the plot\n",
    "# YOUR CODE HERE\n",
    "print(df.isna())\n",
    "df.isna().values.any()\n"
   ]
  },
  {
   "cell_type": "markdown",
   "metadata": {},
   "source": [
    "### Convert the class labels to numerical values\n",
    "Use the `map` function to convert the class labels to numerical values, similar to what we did in the Iris dataset."
   ]
  },
  {
   "cell_type": "code",
   "execution_count": 9,
   "metadata": {
    "tags": []
   },
   "outputs": [
    {
     "name": "stdout",
     "output_type": "stream",
     "text": [
      "  a1 a2 a3 a4 a5 a6 b1 b2 b3 b4  ... f4 f5 f6 g1 g2 g3 g4 g5 g6 class\n",
      "0  b  b  b  b  b  b  b  b  b  b  ...  b  b  b  b  b  b  b  b  b     0\n",
      "1  b  b  b  b  b  b  b  b  b  b  ...  b  b  b  b  b  b  b  b  b     0\n",
      "2  b  b  b  b  b  b  o  b  b  b  ...  b  b  b  b  b  b  b  b  b     0\n",
      "3  b  b  b  b  b  b  b  b  b  b  ...  b  b  b  b  b  b  b  b  b     0\n",
      "4  o  b  b  b  b  b  b  b  b  b  ...  b  b  b  b  b  b  b  b  b     0\n",
      "\n",
      "[5 rows x 43 columns]\n"
     ]
    }
   ],
   "source": [
    "# Converting the class labels to numerical values\n",
    "\n",
    "label_dict = {\n",
    "    'win':0,\n",
    "    'loss':1,\n",
    "    'draw':2 \n",
    "    }\n",
    "\n",
    "# YOUR CODE HERE\n",
    "df['class']=df['class'].replace(label_dict)\n",
    "print(df.head(5))"
   ]
  },
  {
   "cell_type": "code",
   "execution_count": 10,
   "metadata": {
    "tags": []
   },
   "outputs": [
    {
     "data": {
      "text/plain": [
       "<Axes: ylabel='Frequency'>"
      ]
     },
     "execution_count": 10,
     "metadata": {},
     "output_type": "execute_result"
    },
    {
     "data": {
      "image/png": "[encoded data removed]",
      "text/plain": [
       "<Figure size 640x480 with 1 Axes>"
      ]
     },
     "metadata": {},
     "output_type": "display_data"
    }
   ],
   "source": [
    "# Show a histogram of the class labels. Use the 'class' column for this. \n",
    "\n",
    "# YOUR CODE HERE\n",
    "df['class'].plot(kind='hist')"
   ]
  },
  {
   "cell_type": "markdown",
   "metadata": {},
   "source": [
    "### Convert the attributes to numerical values\n",
    "\n",
    "Use the `applymap` function and a `lambda` function to convert the attributes to numerical values."
   ]
  },
  {
   "cell_type": "code",
   "execution_count": 11,
   "metadata": {
    "tags": []
   },
   "outputs": [
    {
     "name": "stdout",
     "output_type": "stream",
     "text": [
      "       a1  a2  a3  a4  a5  a6  b1  b2  b3  b4  ...  f4  f5  f6  g1  g2  g3  \\\n",
      "0       2   2   2   2   2   2   2   2   2   2  ...   2   2   2   2   2   2   \n",
      "1       2   2   2   2   2   2   2   2   2   2  ...   2   2   2   2   2   2   \n",
      "2       2   2   2   2   2   2   1   2   2   2  ...   2   2   2   2   2   2   \n",
      "3       2   2   2   2   2   2   2   2   2   2  ...   2   2   2   2   2   2   \n",
      "4       1   2   2   2   2   2   2   2   2   2  ...   2   2   2   2   2   2   \n",
      "...    ..  ..  ..  ..  ..  ..  ..  ..  ..  ..  ...  ..  ..  ..  ..  ..  ..   \n",
      "67552   0   0   2   2   2   2   1   0   1   2  ...   2   2   2   1   1   0   \n",
      "67553   0   0   2   2   2   2   1   2   2   2  ...   2   2   2   1   0   1   \n",
      "67554   0   0   2   2   2   2   1   1   2   2  ...   2   2   2   1   0   0   \n",
      "67555   0   1   2   2   2   2   1   2   2   2  ...   2   2   2   1   0   1   \n",
      "67556   0   1   1   1   0   2   1   2   2   2  ...   2   2   2   0   2   2   \n",
      "\n",
      "       g4  g5  g6  class  \n",
      "0       2   2   2      0  \n",
      "1       2   2   2      0  \n",
      "2       2   2   2      0  \n",
      "3       2   2   2      0  \n",
      "4       2   2   2      0  \n",
      "...    ..  ..  ..    ...  \n",
      "67552   2   2   2      1  \n",
      "67553   1   0   2      2  \n",
      "67554   1   2   2      1  \n",
      "67555   0   0   2      2  \n",
      "67556   2   2   2      2  \n",
      "\n",
      "[67557 rows x 43 columns]\n"
     ]
    }
   ],
   "source": [
    "# attribute map\n",
    "attribute_dict = {\n",
    "    'x':0,\n",
    "    'o':1,\n",
    "    'b':2,\n",
    "    0:0, 1:1, 2:2\n",
    "    }\n",
    "\n",
    "# YOUR CODE HERE\n",
    "df = df.applymap(attribute_dict.get)\n",
    "print (df)"
   ]
  },
  {
   "cell_type": "markdown",
   "metadata": {},
   "source": [
    "## 1.3 - Split the dataset into training and testing sets"
   ]
  },
  {
   "cell_type": "code",
   "execution_count": 39,
   "metadata": {
    "tags": []
   },
   "outputs": [],
   "source": [
    "# Assign the features to a numpy matrix called X and the class labels to a numpy vector called y\n",
    "\n",
    "# YOUR CODE HERE\n",
    "X = df.drop('class', axis=1).values\n",
    "y = df['class'].values\n"
   ]
  },
  {
   "cell_type": "code",
   "execution_count": 40,
   "metadata": {
    "tags": []
   },
   "outputs": [],
   "source": [
    "# Split the data into training and test sets. Use 30% of the data for testing and a random state of 42\n",
    "# YOUR CODE HERE\n",
    "X_train, X_test, y_train, y_test = train_test_split(X, y, test_size = 0.3, random_state = 42, shuffle = True)"
   ]
  },
  {
   "cell_type": "code",
   "execution_count": 41,
   "metadata": {
    "tags": []
   },
   "outputs": [
    {
     "name": "stdout",
     "output_type": "stream",
     "text": [
      "Xtrain shape: (47289, 42)\n",
      "ytrain shape: (47289,)\n",
      "testx shape: (20268, 42)\n",
      "testy shape: (20268,)\n"
     ]
    }
   ],
   "source": [
    "# Print the shapes of the training and test sets\n",
    "\n",
    "# YOUR CODE HERE\n",
    "print(f'Xtrain shape: {X_train.shape}')\n",
    "print(f'ytrain shape: {y_train.shape}')\n",
    "print(f'testx shape: {X_test.shape}')\n",
    "print(f'testy shape: {y_test.shape}')\n"
   ]
  },
  {
   "cell_type": "markdown",
   "metadata": {},
   "source": [
    "## 1.4 - Train and evaluate a kNN classifier\n",
    "\n",
    "Train a kNN classifier using the training set and predict the labels of the test set. Use k=1. Report the accuracy of the classifier.\n",
    "\n",
    "**Note:** As a distance metric, use the **Hamming** distance metric. Refer to the documentation of the `sklearn.neighbors.KNeighborsClassifier` class. The metric can be specified using the `metric` parameter of the `KNeighborsClassifier`, as `metric='hamming'`.\n"
   ]
  },
  {
   "cell_type": "code",
   "execution_count": 42,
   "metadata": {
    "tags": []
   },
   "outputs": [
    {
     "data": {
      "text/html": [
       "<style>#sk-container-id-5 {color: black;background-color: white;}#sk-container-id-5 pre{padding: 0;}#sk-container-id-5 div.sk-toggleable {background-color: white;}#sk-container-id-5 label.sk-toggleable__label {cursor: pointer;display: block;width: 100%;margin-bottom: 0;padding: 0.3em;box-sizing: border-box;text-align: center;}#sk-container-id-5 label.sk-toggleable__label-arrow:before {content: \"▸\";float: left;margin-right: 0.25em;color: #696969;}#sk-container-id-5 label.sk-toggleable__label-arrow:hover:before {color: black;}#sk-container-id-5 div.sk-estimator:hover label.sk-toggleable__label-arrow:before {color: black;}#sk-container-id-5 div.sk-toggleable__content {max-height: 0;max-width: 0;overflow: hidden;text-align: left;background-color: #f0f8ff;}#sk-container-id-5 div.sk-toggleable__content pre {margin: 0.2em;color: black;border-radius: 0.25em;background-color: #f0f8ff;}#sk-container-id-5 input.sk-toggleable__control:checked~div.sk-toggleable__content {max-height: 200px;max-width: 100%;overflow: auto;}#sk-container-id-5 input.sk-toggleable__control:checked~label.sk-toggleable__label-arrow:before {content: \"▾\";}#sk-container-id-5 div.sk-estimator input.sk-toggleable__control:checked~label.sk-toggleable__label {background-color: #d4ebff;}#sk-container-id-5 div.sk-label input.sk-toggleable__control:checked~label.sk-toggleable__label {background-color: #d4ebff;}#sk-container-id-5 input.sk-hidden--visually {border: 0;clip: rect(1px 1px 1px 1px);clip: rect(1px, 1px, 1px, 1px);height: 1px;margin: -1px;overflow: hidden;padding: 0;position: absolute;width: 1px;}#sk-container-id-5 div.sk-estimator {font-family: monospace;background-color: #f0f8ff;border: 1px dotted black;border-radius: 0.25em;box-sizing: border-box;margin-bottom: 0.5em;}#sk-container-id-5 div.sk-estimator:hover {background-color: #d4ebff;}#sk-container-id-5 div.sk-parallel-item::after {content: \"\";width: 100%;border-bottom: 1px solid gray;flex-grow: 1;}#sk-container-id-5 div.sk-label:hover label.sk-toggleable__label {background-color: #d4ebff;}#sk-container-id-5 div.sk-serial::before {content: \"\";position: absolute;border-left: 1px solid gray;box-sizing: border-box;top: 0;bottom: 0;left: 50%;z-index: 0;}#sk-container-id-5 div.sk-serial {display: flex;flex-direction: column;align-items: center;background-color: white;padding-right: 0.2em;padding-left: 0.2em;position: relative;}#sk-container-id-5 div.sk-item {position: relative;z-index: 1;}#sk-container-id-5 div.sk-parallel {display: flex;align-items: stretch;justify-content: center;background-color: white;position: relative;}#sk-container-id-5 div.sk-item::before, #sk-container-id-5 div.sk-parallel-item::before {content: \"\";position: absolute;border-left: 1px solid gray;box-sizing: border-box;top: 0;bottom: 0;left: 50%;z-index: -1;}#sk-container-id-5 div.sk-parallel-item {display: flex;flex-direction: column;z-index: 1;position: relative;background-color: white;}#sk-container-id-5 div.sk-parallel-item:first-child::after {align-self: flex-end;width: 50%;}#sk-container-id-5 div.sk-parallel-item:last-child::after {align-self: flex-start;width: 50%;}#sk-container-id-5 div.sk-parallel-item:only-child::after {width: 0;}#sk-container-id-5 div.sk-dashed-wrapped {border: 1px dashed gray;margin: 0 0.4em 0.5em 0.4em;box-sizing: border-box;padding-bottom: 0.4em;background-color: white;}#sk-container-id-5 div.sk-label label {font-family: monospace;font-weight: bold;display: inline-block;line-height: 1.2em;}#sk-container-id-5 div.sk-label-container {text-align: center;}#sk-container-id-5 div.sk-container {/* jupyter's `normalize.less` sets `[hidden] { display: none; }` but bootstrap.min.css set `[hidden] { display: none !important; }` so we also need the `!important` here to be able to override the default hidden behavior on the sphinx rendered scikit-learn.org. See: https://github.com/scikit-learn/scikit-learn/issues/21755 */display: inline-block !important;position: relative;}#sk-container-id-5 div.sk-text-repr-fallback {display: none;}</style><div id=\"sk-container-id-5\" class=\"sk-top-container\"><div class=\"sk-text-repr-fallback\"><pre>KNeighborsClassifier(metric=&#x27;hamming&#x27;, n_neighbors=1)</pre><b>In a Jupyter environment, please rerun this cell to show the HTML representation or trust the notebook. <br />On GitHub, the HTML representation is unable to render, please try loading this page with nbviewer.org.</b></div><div class=\"sk-container\" hidden><div class=\"sk-item\"><div class=\"sk-estimator sk-toggleable\"><input class=\"sk-toggleable__control sk-hidden--visually\" id=\"sk-estimator-id-5\" type=\"checkbox\" checked><label for=\"sk-estimator-id-5\" class=\"sk-toggleable__label sk-toggleable__label-arrow\">KNeighborsClassifier</label><div class=\"sk-toggleable__content\"><pre>KNeighborsClassifier(metric=&#x27;hamming&#x27;, n_neighbors=1)</pre></div></div></div></div></div>"
      ],
      "text/plain": [
       "KNeighborsClassifier(metric='hamming', n_neighbors=1)"
      ]
     },
     "execution_count": 42,
     "metadata": {},
     "output_type": "execute_result"
    }
   ],
   "source": [
    "# Fit the KNN model to the training data\n",
    "\n",
    "# YOUR CODE HERE\n",
    "knn = KNeighborsClassifier(n_neighbors = 1, metric='hamming')\n",
    "knn.fit(X_train, y_train)"
   ]
  },
  {
   "cell_type": "code",
   "execution_count": 43,
   "metadata": {
    "tags": []
   },
   "outputs": [
    {
     "name": "stdout",
     "output_type": "stream",
     "text": [
      "0.661880797315966\n"
     ]
    }
   ],
   "source": [
    "# Evaluate the model on the test data using classification accuracy and report the results.\n",
    "# Note, this may take some time to run. It takes about 30 seconds on my machine.0.9338365896980462\n",
    "\n",
    "accuracy = knn.score(X_test, y_test)\n",
    "print (accuracy)\n",
    "# YOUR CODE HERE"
   ]
  },
  {
   "cell_type": "markdown",
   "metadata": {},
   "source": [
    "# Task 2 - Fine tune the hyperparameter k of a kNN classifier\n",
    "\n",
    "### Split the data into training, validation and test sets, using a 60:20:20 split"
   ]
  },
  {
   "cell_type": "code",
   "execution_count": 48,
   "metadata": {
    "tags": []
   },
   "outputs": [],
   "source": [
    "# Split the data into training, validation and test sets. Use a 60:20:20 split. Use a random state of 42.\n",
    "\n",
    "# YOUR CODE HERE\n",
    "X_train_val, X_test, y_train_val, y_test = train_test_split(X, y, test_size=0.4, random_state=42)\n",
    "X_train, X_val, y_train, y_val = train_test_split(X_train_val, y_train_val, test_size=0.5, random_state=42)\n"
   ]
  },
  {
   "cell_type": "markdown",
   "metadata": {},
   "source": [
    "Print the shape of the training, validation and test sets. Check the numbers to make sure that the split is correct."
   ]
  },
  {
   "cell_type": "code",
   "execution_count": null,
   "metadata": {
    "tags": []
   },
   "outputs": [],
   "source": [
    "# Print the shapes of the training, validation and test sets\n",
    "\n",
    "# YOUR CODE HERE\n",
    "print(\"Training set shape: \", X_train.shape, y_train.shape)\n",
    "print(\"Validation set shape: \", X_val.shape, y_val.shape)\n",
    "print(\"Test set shape: \",  X_test.shape, y_test.shape)\n",
    "\n",
    "\n",
    "\n"
   ]
  },
  {
   "cell_type": "markdown",
   "metadata": {},
   "source": [
    "### Tune the value of k using the validation set\n",
    "\n",
    "Tune the value of k using the validation set for values from 1 to 30. Use the Hamming distance metric. Report the accuracy of the classifier on the validation set for each value of k. Plot the accuracy of the classifier on the validation set for each value of k. Report the value of k that gives the best accuracy on the validation set."
   ]
  },
  {
   "cell_type": "code",
   "execution_count": null,
   "metadata": {
    "tags": []
   },
   "outputs": [],
   "source": [
    "# YOUR CODE HERE\n",
    "k_values = range(1,31)\n",
    "val_accuracies=[]\n",
    "for k in k_values:\n",
    "    knn = KNeighborsClassifier(n_neighbors=k, metric='hamming')\n",
    "    knn.fit(X_train, y_train)\n",
    "    y_val_pred=knn.predict(X_val)\n",
    "    val_acc = accuracy_score(y_val, y_val_pred)\n",
    "    val_accuracies.append(val_acc)\n",
    "    print(\"k=%d, validation accuracy = %.4f\"%(k, val_acc))\n",
    "    \n",
    "plt.plot(k_values, val_accuracies)\n",
    "plt.title(\"ValAccur vs k\")\n",
    "plt.xlabel(\"k\")\n",
    "plt.ylabel(\"Accuracy\")\n",
    "plt.show\n",
    "best_k = k_values[np.argmax(val_accuracies)]\n",
    "print(\"Best k val : \", best_k)\n",
    "\n",
    "\n",
    "#this took my computer about 20 min to run \n"
   ]
  },
  {
   "cell_type": "markdown",
   "metadata": {},
   "source": [
    "### Evaluate the classifier on the test set\n",
    "\n",
    "Train a kNN classifier using the training set and predict the labels of the test set. Use the value of k that gave the best accuracy on the validation set. Report the accuracy of the classifier on the test set."
   ]
  },
  {
   "cell_type": "code",
   "execution_count": null,
   "metadata": {
    "tags": []
   },
   "outputs": [],
   "source": [
    "knn = KNeighborsClassifier(n_neighbors=1, metric='hamming')\n",
    "knn.fit(X_train, y_train)\n",
    "y_pred=knn.predict(X_test)\n",
    "accuracy = (y_pred == y_test).mean()\n",
    "print('Accuracy on test set: ', accuracy)"
   ]
  }
 ],
 "metadata": {
  "kernelspec": {
   "display_name": "Python 3 (ipykernel)",
   "language": "python",
   "name": "python3"
  },
  "language_info": {
   "codemirror_mode": {
    "name": "ipython",
    "version": 3
   },
   "file_extension": ".py",
   "mimetype": "text/x-python",
   "name": "python",
   "nbconvert_exporter": "python",
   "pygments_lexer": "ipython3",
   "version": "3.8.16"
  },
  "vscode": {
   "interpreter": {
    "hash": "f63e3a62ec1190916fbae343a873902eb59c19028644989a00d46d3a746fcb45"
   }
  }
 },
 "nbformat": 4,
 "nbformat_minor": 4
}
