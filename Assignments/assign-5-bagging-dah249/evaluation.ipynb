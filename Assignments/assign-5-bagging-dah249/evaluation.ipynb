{
 "cells": [
  {
   "cell_type": "markdown",
   "metadata": {},
   "source": [
    "# Evaluate the Custom Bagging Classifier"
   ]
  },
  {
   "cell_type": "code",
   "execution_count": 1,
   "metadata": {
    "tags": []
   },
   "outputs": [],
   "source": [
    "# Import the ncessary libraries and modules\n",
    "from sklearn.metrics import confusion_matrix, accuracy_score\n",
    "from sklearn.model_selection import train_test_split\n",
    "from sklearn.tree import DecisionTreeClassifier\n",
    "from sklearn.ensemble import BaggingClassifier\n",
    "from sklearn import datasets\n",
    "from bagging import CustomBaggingClassifier\n"
   ]
  },
  {
   "cell_type": "markdown",
   "metadata": {},
   "source": [
    "### Evaluate the Custom Bagging Classifier on the Scikit-Learn **Iris dataset** and compare the results with the Scikit-learn `BaggingClassifier`. Print the **accuracy score** and the **confusion matrix** for both models. For replicability, use a `random_state` of 43 for the `train_test_split` and a `test_size` of 0.25. Use a `DecisionTreeClassifier` of `max_depth=2` as the base estimator and a `n_estimators=10` for both models."
   ]
  },
  {
   "cell_type": "code",
   "execution_count": 2,
   "metadata": {
    "tags": []
   },
   "outputs": [
    {
     "name": "stdout",
     "output_type": "stream",
     "text": [
      "Custom Bagging Classifier:\n",
      "Accuracy score: 0.9473684210526315\n",
      "Confusion matrix:\n",
      " [[14  0  0]\n",
      " [ 0 12  0]\n",
      " [ 0  2 10]]\n",
      "\n",
      "Scikit-learn's Bagging Classifier:\n",
      "Accuracy score: 0.9736842105263158\n",
      "Confusion matrix:\n",
      " [[14  0  0]\n",
      " [ 0 12  0]\n",
      " [ 0  1 11]]\n"
     ]
    },
    {
     "name": "stderr",
     "output_type": "stream",
     "text": [
      "/Users/dillonhughes/miniconda3/envs/cs4347/lib/python3.8/site-packages/sklearn/ensemble/_base.py:166: FutureWarning: `base_estimator` was renamed to `estimator` in version 1.2 and will be removed in 1.4.\n",
      "  warnings.warn(\n"
     ]
    }
   ],
   "source": [
    "iris = datasets.load_iris()\n",
    "X, y = iris.data, iris.target\n",
    "\n",
    "# TODO: ...\n",
    "iris = datasets.load_iris()\n",
    "X, y = iris.data, iris.target\n",
    "\n",
    "X_train, X_test, y_train, y_test = train_test_split(X, y, test_size=0.25, random_state=43)\n",
    "\n",
    "clf_custom = CustomBaggingClassifier(base_estimator=DecisionTreeClassifier(max_depth=2), n_estimators=10)\n",
    "clf_custom.fit(X_train, y_train)\n",
    "\n",
    "clf_sklearn = BaggingClassifier(base_estimator=DecisionTreeClassifier(max_depth=2), n_estimators=10)\n",
    "clf_sklearn.fit(X_train, y_train)\n",
    "\n",
    "y_pred_custom = clf_custom.predict(X_test)\n",
    "accuracy_custom = accuracy_score(y_test, y_pred_custom)\n",
    "cm_custom = confusion_matrix(y_test, y_pred_custom)\n",
    "print(\"Custom Bagging Classifier:\")\n",
    "print(\"Accuracy score:\", accuracy_custom)\n",
    "print(\"Confusion matrix:\\n\", cm_custom)\n",
    "\n",
    "y_pred_sklearn = clf_sklearn.predict(X_test)\n",
    "accuracy_sklearn = accuracy_score(y_test, y_pred_sklearn)\n",
    "cm_sklearn = confusion_matrix(y_test, y_pred_sklearn)\n",
    "print(\"\\nScikit-learn's Bagging Classifier:\")\n",
    "print(\"Accuracy score:\", accuracy_sklearn)\n",
    "print(\"Confusion matrix:\\n\", cm_sklearn)\n"
   ]
  },
  {
   "cell_type": "code",
   "execution_count": null,
   "metadata": {},
   "outputs": [],
   "source": []
  }
 ],
 "metadata": {
  "kernelspec": {
   "display_name": "Python 3 (ipykernel)",
   "language": "python",
   "name": "python3"
  },
  "language_info": {
   "codemirror_mode": {
    "name": "ipython",
    "version": 3
   },
   "file_extension": ".py",
   "mimetype": "text/x-python",
   "name": "python",
   "nbconvert_exporter": "python",
   "pygments_lexer": "ipython3",
   "version": "3.8.16"
  }
 },
 "nbformat": 4,
 "nbformat_minor": 4
}
