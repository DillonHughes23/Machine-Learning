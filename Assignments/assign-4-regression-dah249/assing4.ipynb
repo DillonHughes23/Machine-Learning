{
 "cells": [
  {
   "cell_type": "markdown",
   "metadata": {},
   "source": [
    "# CS4347 Assignment 4: Regression on the Wine Quality Dataset\n",
    "\n",
    "## Dataset\n",
    "The Wine Quality dataset consists of 11 input variables and 1 output variable, which is the quality of the wine on a scale of 0 to 10. The input variables include information about the physicochemical properties of the wine, such as its acidity, pH, and alcohol content. The dataset contains two files, `winequality-white.csv` with 4898 samples and `winequality-red.csv` with 1599 samples. The dataset is available at https://archive.ics.uci.edu/ml/datasets/wine+quality. In this assignment we will use the white wine dataset. The dataset has been downloaded for you and is available in the `data` folder.\n",
    "\n",
    "## Task 1 [50 points]: Compare the performance of linear regression, kNN regression, and decision tree regression implemented in the Scikit-learn library on the Wine Quality dataset.\n",
    "\n",
    "In each one of the steps below, you can import the necessary libraries required to complete the task."
   ]
  },
  {
   "cell_type": "markdown",
   "metadata": {},
   "source": [
    "### 1. Load the `winequality-white.csv` dataset from the CSV file and display the first 5 rows, and display a histogram of the quality values."
   ]
  },
  {
   "cell_type": "code",
   "execution_count": 25,
   "metadata": {
    "tags": []
   },
   "outputs": [
    {
     "name": "stdout",
     "output_type": "stream",
     "text": [
      "               volatile acidity  citric acid  residual sugar  chlorides  \\\n",
      "fixed acidity                                                             \n",
      "7.0                        0.27         0.36            20.7      0.045   \n",
      "6.3                        0.30         0.34             1.6      0.049   \n",
      "8.1                        0.28         0.40             6.9      0.050   \n",
      "7.2                        0.23         0.32             8.5      0.058   \n",
      "7.2                        0.23         0.32             8.5      0.058   \n",
      "\n",
      "               free sulfur dioxide  total sulfur dioxide  density    pH  \\\n",
      "fixed acidity                                                             \n",
      "7.0                           45.0                 170.0   1.0010  3.00   \n",
      "6.3                           14.0                 132.0   0.9940  3.30   \n",
      "8.1                           30.0                  97.0   0.9951  3.26   \n",
      "7.2                           47.0                 186.0   0.9956  3.19   \n",
      "7.2                           47.0                 186.0   0.9956  3.19   \n",
      "\n",
      "               sulphates  alcohol  quality  \n",
      "fixed acidity                               \n",
      "7.0                 0.45      8.8        6  \n",
      "6.3                 0.49      9.5        6  \n",
      "8.1                 0.44     10.1        6  \n",
      "7.2                 0.40      9.9        6  \n",
      "7.2                 0.40      9.9        6  \n"
     ]
    }
   ],
   "source": [
    "# YOUR CODE HERE\n",
    "import pandas as pd\n",
    "import numpy as np\n",
    "import matplotlib.pyplot as plt\n",
    "\n",
    "from sklearn.preprocessing import StandardScaler\n",
    "from sklearn.linear_model import LinearRegression\n",
    "from sklearn.neighbors import KNeighborsRegressor\n",
    "from sklearn.tree import DecisionTreeRegressor\n",
    "from sklearn.model_selection import train_test_split\n",
    "\n",
    "\n",
    "ww = pd.read_csv('data/winequality-white.csv', delimiter= \";\", index_col=0)\n",
    "print(ww.head())\n"
   ]
  },
  {
   "cell_type": "code",
   "execution_count": 26,
   "metadata": {
    "tags": []
   },
   "outputs": [
    {
     "data": {
      "image/png": "[encoded data removed]",
      "text/plain": [
       "<Figure size 640x480 with 1 Axes>"
      ]
     },
     "metadata": {},
     "output_type": "display_data"
    }
   ],
   "source": [
    "# Display a histogram of the quality column\n",
    "# YOUR CODE HERE\n",
    "ww[\"quality\"].hist()\n",
    "plt.ylabel(\"Count\")\n",
    "plt.xlabel(\"Quality\")\n",
    "plt.title(\"Histogram of quality Column of dataset\")\n",
    "plt.show()"
   ]
  },
  {
   "cell_type": "markdown",
   "metadata": {},
   "source": [
    "### 2. Split the dataset into features `X` and target variables `y`, and then split them into training and test sets using a 70/30 split, using a random seed of 43. Display the shapes of the training and test sets."
   ]
  },
  {
   "cell_type": "code",
   "execution_count": 27,
   "metadata": {
    "tags": []
   },
   "outputs": [
    {
     "name": "stdout",
     "output_type": "stream",
     "text": [
      "Size of X_train (3428, 10)\n",
      "Size of X_test (1470, 10)\n",
      "Size of y_train (3428,)\n",
      "Size of y_test (1470,)\n"
     ]
    }
   ],
   "source": [
    "# YOUR CODE HERE\n",
    "X = ww.drop(\"quality\", axis=1)\n",
    "y = ww[\"quality\"]\n",
    "\n",
    "X_train, X_test, y_train, y_test = train_test_split(X, y, test_size = 0.3, random_state = 43)\n",
    "\n",
    "print(\"Size of X_train\", X_train.shape)\n",
    "print(\"Size of X_test\", X_test.shape)\n",
    "print(\"Size of y_train\", y_train.shape)\n",
    "print(\"Size of y_test\", y_test.shape)"
   ]
  },
  {
   "cell_type": "markdown",
   "metadata": {},
   "source": [
    "### 3. Instantiate the three regression models: `LinearRegression`, `KNeighborsRegressor`, and `DecisionTreeRegressor`.\n",
    "\n",
    "For the `KNeighborsRegressor`, set the number of neighbors to 5 and the distance metric to Euclidian distance. For the `DecisionTreeRegressor`, set the maximum depth to 5."
   ]
  },
  {
   "cell_type": "code",
   "execution_count": 28,
   "metadata": {
    "tags": []
   },
   "outputs": [],
   "source": [
    "# YOUR CODE HERE\n",
    "lr = LinearRegression()\n",
    "knn = KNeighborsRegressor(n_neighbors=5, metric='euclidean')\n",
    "dt = DecisionTreeRegressor(max_depth=5)"
   ]
  },
  {
   "cell_type": "markdown",
   "metadata": {},
   "source": [
    "### 4. Fit each model on the training data and predict the target variable for the test data."
   ]
  },
  {
   "cell_type": "code",
   "execution_count": 29,
   "metadata": {
    "tags": []
   },
   "outputs": [],
   "source": [
    "# YOUR CODE HERE\n",
    "lr.fit(X_train, y_train)\n",
    "y_pred_lr = lr.predict(X_test)\n",
    "\n",
    "knn.fit(X_train, y_train)\n",
    "y_pred_knn = knn.predict(X_test)\n",
    "\n",
    "dt.fit(X_train, y_train)\n",
    "y_pred_dt = dt.predict(X_test)"
   ]
  },
  {
   "cell_type": "markdown",
   "metadata": {
    "tags": []
   },
   "source": [
    "### 5. Implement functions to calculate the Residual Standard Error (RSE) and R-squared for each model.\n",
    "\n",
    "The Residual Sum of Squares (RSS) and Total Sum of Squares (TSS) are defined respectively as $ RSS = \\sum_{i=1}^{n}(y_i - \\hat{y_i})^2 $ and $ TSS = \\sum_{i=1}^{n}(y_i - \\bar{y})^2 $, where $y_i$ is the i-th observed value of the dependent variable, $\\hat{y_i}$ is the predicted value of the dependent variable for the i-th observation, and the sum is taken over all n observations.\n",
    "\n",
    "The Residual Standard Error (RSE) is define as:\n",
    "\n",
    "$$ RSE = \\sqrt{\\frac{\\sum_{i=1}^{n}(y_i - \\hat{y_i})^2}{n - p - 1}} = \\sqrt{\\frac{RSS}{n - p - 1}} $$\n",
    "\n",
    "where n is the number of observations, and p is the number of parameters in the model.\n",
    "\n",
    "The $R^2$ (R-squared) is define as:\n",
    "\n",
    "$$ R^2 = 1 - \\frac{\\sum_{i=1}^{n}(y_i - \\hat{y_i})^2}{\\sum_{i=1}^{n}(y_i - \\bar{y})^2} = 1 - \\frac{RSS}{TSS}$$\n",
    "\n",
    "**Implement the functions `rse()` and `r_squared()` based on the above formulas to use for the calculations.**"
   ]
  },
  {
   "cell_type": "code",
   "execution_count": 30,
   "metadata": {
    "tags": []
   },
   "outputs": [],
   "source": [
    "# YOUR CODE HERE\n",
    "\n",
    "def rse(y_true, y_pred, p):\n",
    "    n = len(y_true)\n",
    "    rss = np.sum(np.square(y_true - y_pred))\n",
    "    rse = np.sqrt(rss / (n - p - 1))\n",
    "    return rse\n",
    "\n",
    "\n",
    "def r_squared(y_true, y_pred):\n",
    "    tss = np.sum(np.square(y_true - np.mean(y_true)))\n",
    "    rss = np.sum(np.square(y_true - y_pred))\n",
    "    r_squared = 1 - (rss / tss)\n",
    "    return r_squared"
   ]
  },
  {
   "cell_type": "markdown",
   "metadata": {},
   "source": [
    "### 6. Use your functions to calculate the RSE and R-squared for each model using the predicted and actual target variables on the test data. Display the results."
   ]
  },
  {
   "cell_type": "code",
   "execution_count": 31,
   "metadata": {
    "tags": []
   },
   "outputs": [
    {
     "name": "stdout",
     "output_type": "stream",
     "text": [
      "Linear Regression RSE: 0.7612132775910977\n",
      "Linear Regression R-squared: 0.28056191083999815\n",
      "KNN Regression RSE: 0.8344370118823694\n",
      "KNN Regression R-squared: 0.13549435103473673\n",
      "Decision Tree Regression RSE: 0.7585826102627894\n",
      "Decision Tree Regression R-squared: 0.2855259124447814\n"
     ]
    }
   ],
   "source": [
    "# YOUR CODE HERE\n",
    "lr_rse = rse(y_test, y_pred_lr, X_test.shape[1])\n",
    "lr_r_squared = r_squared(y_test, y_pred_lr)\n",
    "\n",
    "print(\"Linear Regression RSE:\", lr_rse)\n",
    "print(\"Linear Regression R-squared:\", lr_r_squared)\n",
    "\n",
    "knn_rse = rse(y_test, y_pred_knn, X_test.shape[1])\n",
    "knn_r_squared = r_squared(y_test, y_pred_knn)\n",
    "\n",
    "print(\"KNN Regression RSE:\", knn_rse)\n",
    "print(\"KNN Regression R-squared:\", knn_r_squared)\n",
    "\n",
    "dt_rse = rse(y_test, y_pred_dt, X_test.shape[1])\n",
    "dt_r_squared = r_squared(y_test, y_pred_dt)\n",
    "\n",
    "print(\"Decision Tree Regression RSE:\", dt_rse)\n",
    "print(\"Decision Tree Regression R-squared:\", dt_r_squared)\n"
   ]
  },
  {
   "cell_type": "markdown",
   "metadata": {},
   "source": [
    "### 7. Compare the performance of each model based on the R-squared and RSE scores. Which model performed the best? Which one performed the worst? What might be the reasons for the differences in performance? Write a brief report summarizing your findings and conclusions. Include a discussion of the strengths and weaknesses of each model and how they might be used in practice."
   ]
  },
  {
   "cell_type": "markdown",
   "metadata": {},
   "source": [
    "YOUR ANSWER \n",
    "R squared measures how well he model fits the data with values of 0-1 and a 1 indicating the perfect fit. Whereas RSE measures the standard deviation of the remaining and is found by using the square root of the mean squared error. Based on the R-squared and RSE scores, the Linear Regression model performed the best, followed by the Decision Tree Regression model, and the KNN Regression model performed the worst.The Linear Regression model had the highest R-squared score, indicating that it was able to explain the largest proportion of variance in the target variable. Additionally, it had the lowest RSE score, indicating that it had the smallest error in predicting the target variable. The Decision Tree Regression model had a relatively high R-squared score and a similar RSE score to the Linear Regression model, indicating that it performed well in predicting the target variable.the KNN Regression model had a relatively low R-squared score and a higher RSE score than the other two models, indicating that it did not perform as well in predicting the target variable. The KNN model may have performed worse due to the fact that it relied on a small number of nearest neighbors, which may not have been representative of the overall dataset."
   ]
  },
  {
   "cell_type": "markdown",
   "metadata": {},
   "source": [
    "## Task 2 [50 points]: Implement KNN Regression from scratch\n",
    "\n",
    "### 1. Implement the KNN Regression algorithm from scratch. Your implementation should include the following functions:\n",
    "\n",
    "- `euclidean_distance(x1, x2)`: calculates the Euclidean distance between two data points.\n",
    "- `get_neighbors(X_train, y_train, x_test, k)`: finds the k nearest neighbors of a test data point in the training dataset.\n",
    "- `predict(X_train, y_train, x_test, k)`: predicts the output variable for a test data point using KNN Regression with k nearest neighbors.\n",
    "- `evaluate(X_train, y_train, X_test, y_test, k)`: evaluates the performance of the KNN Regression algorithm on a test dataset using the Residual Standard Error (RSE) and R-squared metrics."
   ]
  },
  {
   "cell_type": "code",
   "execution_count": 52,
   "metadata": {
    "tags": []
   },
   "outputs": [],
   "source": [
    "import numpy as np\n",
    "\n",
    "def euclidean_distance(x1, x2):\n",
    "    return np.sqrt(np.sum((x1 - x2)**2))\n",
    "\n",
    "def get_neighbors(X_train, y_train, x_test, k):\n",
    "    distances = []\n",
    "    for i in range(len(X_train)):\n",
    "        dist = euclidean_distance(x_test, X_train[i])\n",
    "        distances.append((i, dist))\n",
    "    distances = sorted(distances, key=lambda x: x[1])\n",
    "    neighbors = []\n",
    "    for i in range(k):\n",
    "        neighbors.append((X_train[distances[i][0]], y_train[distances[i][0]]))\n",
    "    return neighbors\n",
    "\n",
    "def predict(X_train, y_train, x_test, k):\n",
    "    neighbors = get_neighbors(X_train, y_train, x_test, k)\n",
    "    total_weight = 0\n",
    "    weighted_sum = 0\n",
    "    for neighbor in neighbors:\n",
    "        distance = euclidean_distance(x_test, neighbor[0])\n",
    "        #weight = 1 / distance\n",
    "        epsilon = 1e-5 \n",
    "        weight = 1 / (distance + epsilon)\n",
    "        total_weight += weight\n",
    "        weighted_sum += weight * neighbor[1]\n",
    "    return weighted_sum / total_weight\n",
    "\n",
    "def evaluate(X_train, y_train, X_test, y_test, k):\n",
    "    y_pred = []\n",
    "    for i in range(len(X_test)):\n",
    "        y_pred.append(predict(X_train, y_train, X_test[i], k))\n",
    "    y_pred = np.array(y_pred)\n",
    "    rse = np.sqrt(np.mean((y_test - y_pred)**2))\n",
    "    mean_y = np.mean(y_test)\n",
    "    ss_tot = np.sum((y_test - mean_y)**2)\n",
    "    ss_res = np.sum((y_test - y_pred)**2)\n",
    "    r2 = 1 - (ss_res / ss_tot)\n",
    "    return rse, r2\n"
   ]
  },
  {
   "cell_type": "markdown",
   "metadata": {},
   "source": [
    "### 2. Train your KNN Regression model on the training dataset using k=5 and the same train/test splits that you used in Task 1. Evaluate the performance of your KNN Regression model on the testing dataset using the evaluate function. Report the RSE and R-squared values."
   ]
  },
  {
   "cell_type": "code",
   "execution_count": 53,
   "metadata": {
    "tags": []
   },
   "outputs": [
    {
     "name": "stdout",
     "output_type": "stream",
     "text": [
      "Residual Standard Error (RSE):  0.7572717706347437\n",
      "R-squared:  0.2826249052228066\n"
     ]
    }
   ],
   "source": [
    "\n",
    "X = ww.drop(\"quality\", axis=1)\n",
    "y = ww[\"quality\"]\n",
    "X_train, X_test, y_train, y_test = train_test_split(X, y, test_size=0.3, random_state=43)\n",
    "\n",
    "rse, r2 = evaluate(X_train.values, y_train.values, X_test.values, y_test.values, k=5)\n",
    "print(\"Residual Standard Error (RSE): \", rse)\n",
    "print(\"R-squared: \", r2)"
   ]
  },
  {
   "cell_type": "markdown",
   "metadata": {},
   "source": [
    "### 3. Write a brief report summarizing your observations. Include a discussion of the strengths and weaknesses of your implementation of KNN Regression. How does your implementation compare to the Scikit-learn implementation? Are there differences in the prediction accuracy and speed of the two implementations?"
   ]
  },
  {
   "cell_type": "markdown",
   "metadata": {},
   "source": [
    "YOUR ANSWER HERE\n",
    "I implemented a knn regression algorithm from scratch and evaluated the performance on the quality dataset. The performance of my knn regression was actually comparable to the scikit learn. The rse and r squared we pretty similar. But there was some differences with prediction accuracy and speed. One strength of my implementation was it is simple and easy to understand with basic py functions. It is also modular so its easy to edit and fit your needs. My weakness with my implimentation is that it is very slow compared to scikit learn. Scikit learn is made to handle large data sets so it is kind of expected. It could have taken a week to compute on a large dataset with millions of data points. "
   ]
  },
  {
   "cell_type": "code",
   "execution_count": null,
   "metadata": {},
   "outputs": [],
   "source": []
  }
 ],
 "metadata": {
  "kernelspec": {
   "display_name": "Python 3 (ipykernel)",
   "language": "python",
   "name": "python3"
  },
  "language_info": {
   "codemirror_mode": {
    "name": "ipython",
    "version": 3
   },
   "file_extension": ".py",
   "mimetype": "text/x-python",
   "name": "python",
   "nbconvert_exporter": "python",
   "pygments_lexer": "ipython3",
   "version": "3.8.16"
  },
  "vscode": {
   "interpreter": {
    "hash": "aad5b032669a22d10aade9b71c16d8cc65c4a37ed7e83af7b59e17b6dee418eb"
   }
  }
 },
 "nbformat": 4,
 "nbformat_minor": 4
}
